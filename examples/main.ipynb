{
 "cells": [
  {
   "cell_type": "code",
   "execution_count": 1,
   "metadata": {},
   "outputs": [],
   "source": [
    "import sys,os\n",
    "if os.path.abspath(os.path.join('..')) not in sys.path:\n",
    "    sys.path.insert(0, os.path.abspath(os.path.join('..')))"
   ]
  },
  {
   "cell_type": "code",
   "execution_count": 2,
   "metadata": {},
   "outputs": [],
   "source": [
    "import kerpy"
   ]
  },
  {
   "cell_type": "code",
   "execution_count": 3,
   "metadata": {},
   "outputs": [
    {
     "data": {
      "text/plain": [
       "array([[ 0.,  0.,  0., -1.,  0.,  1.,  0.,  0.,  0.],\n",
       "       [ 0.,  0.,  0., -1.,  0.,  1.,  0.,  0.,  0.],\n",
       "       [ 0.,  0.,  0., -1.,  0.,  1.,  0.,  0.,  0.],\n",
       "       [ 0.,  0.,  0., -1.,  0.,  1.,  0.,  0.,  0.],\n",
       "       [ 0.,  0.,  0., -1.,  0.,  1.,  0.,  0.,  0.],\n",
       "       [ 0.,  0.,  0., -1.,  0.,  1.,  0.,  0.,  0.],\n",
       "       [ 0.,  0.,  0., -1.,  0.,  1.,  0.,  0.,  0.]], dtype=float32)"
      ]
     },
     "execution_count": 3,
     "metadata": {},
     "output_type": "execute_result"
    }
   ],
   "source": [
    "kerpy.diff.lines(size=(7,9)).to_reals()[\"x\"]"
   ]
  },
  {
   "cell_type": "code",
   "execution_count": 4,
   "metadata": {},
   "outputs": [
    {
     "data": {
      "text/plain": [
       "<kerpy.Kernel numpy =\n",
       "[[ 0. -1.  0.]\n",
       " [-1.  5. -1.]\n",
       " [ 0. -1.  0.]] at 0x233da4806d0>"
      ]
     },
     "execution_count": 4,
     "metadata": {},
     "output_type": "execute_result"
    }
   ],
   "source": [
    "kerpy.processing.sharpen()"
   ]
  },
  {
   "cell_type": "code",
   "execution_count": 5,
   "metadata": {},
   "outputs": [
    {
     "data": {
      "text/plain": [
       "<kerpy.Kernel numpy =\n",
       "[[0.36787944 0.60653066 0.36787944]\n",
       " [0.60653066 1.         0.60653066]\n",
       " [0.36787944 0.60653066 0.36787944]] at 0x233da480c70>"
      ]
     },
     "execution_count": 5,
     "metadata": {},
     "output_type": "execute_result"
    }
   ],
   "source": [
    "kerpy.processing.gaussian(normalize=False)"
   ]
  },
  {
   "cell_type": "code",
   "execution_count": 11,
   "metadata": {},
   "outputs": [
    {
     "data": {
      "text/plain": [
       "array([[-0.00390625, -0.015625  , -0.0234375 , -0.015625  , -0.00390625],\n",
       "       [-0.015625  , -0.0625    , -0.09375   , -0.0625    , -0.015625  ],\n",
       "       [-0.0234375 , -0.09375   ,  1.859375  , -0.09375   , -0.0234375 ],\n",
       "       [-0.015625  , -0.0625    , -0.09375   , -0.0625    , -0.015625  ],\n",
       "       [-0.00390625, -0.015625  , -0.0234375 , -0.015625  , -0.00390625]])"
      ]
     },
     "execution_count": 11,
     "metadata": {},
     "output_type": "execute_result"
    }
   ],
   "source": [
    "import numpy as np\n",
    "np.array([[1,4,6,4,1],[4,16,24,16,4],[6,24,-476,24,6],[4,16,24,16,4],[1,4,6,4,1]])/256*(-1)"
   ]
  },
  {
   "cell_type": "code",
   "execution_count": 9,
   "metadata": {},
   "outputs": [
    {
     "data": {
      "text/plain": [
       "<kerpy.Kernel numpy =\n",
       "[[-0.00296902 -0.01330621 -0.02193823 -0.01330621 -0.00296902]\n",
       " [-0.01330621 -0.0596343  -0.09832033 -0.0596343  -0.01330621]\n",
       " [-0.02193823 -0.09832033  1.83789718 -0.09832033 -0.02193823]\n",
       " [-0.01330621 -0.0596343  -0.09832033 -0.0596343  -0.01330621]\n",
       " [-0.00296902 -0.01330621 -0.02193823 -0.01330621 -0.00296902]] at 0x233da47d460>"
      ]
     },
     "execution_count": 9,
     "metadata": {},
     "output_type": "execute_result"
    }
   ],
   "source": [
    "kerpy.processing.unsharp((5,5))\n"
   ]
  },
  {
   "cell_type": "code",
   "execution_count": null,
   "metadata": {},
   "outputs": [],
   "source": []
  }
 ],
 "metadata": {
  "kernelspec": {
   "display_name": "Python 3 (ipykernel)",
   "language": "python",
   "name": "python3"
  },
  "language_info": {
   "codemirror_mode": {
    "name": "ipython",
    "version": 3
   },
   "file_extension": ".py",
   "mimetype": "text/x-python",
   "name": "python",
   "nbconvert_exporter": "python",
   "pygments_lexer": "ipython3",
   "version": "3.9.5"
  }
 },
 "nbformat": 4,
 "nbformat_minor": 1
}
