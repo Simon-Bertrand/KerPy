{
 "cells": [
  {
   "cell_type": "code",
   "execution_count": 1,
   "metadata": {},
   "outputs": [],
   "source": [
    "import sys,os, numpy as np\n",
    "if os.path.abspath(os.path.join('..')) not in sys.path:\n",
    "    sys.path.insert(0, os.path.abspath(os.path.join('..')))\n",
    "import kerpy"
   ]
  },
  {
   "cell_type": "code",
   "execution_count": 6,
   "metadata": {},
   "outputs": [
    {
     "data": {
      "text/plain": [
       "<kerpy.Kernel numpy =\n",
       "[[ 0. -1.  0.]\n",
       " [-1.  5. -1.]\n",
       " [ 0. -1.  0.]] at 0x1d2d4fe1e50>"
      ]
     },
     "execution_count": 6,
     "metadata": {},
     "output_type": "execute_result"
    }
   ],
   "source": [
    "\n",
    "l"
   ]
  },
  {
   "cell_type": "code",
   "execution_count": 8,
   "metadata": {},
   "outputs": [
    {
     "ename": "NameError",
     "evalue": "name 'np' is not defined",
     "output_type": "error",
     "traceback": [
      "\u001b[1;31m---------------------------------------------------------------------------\u001b[0m",
      "\u001b[1;31mNameError\u001b[0m                                 Traceback (most recent call last)",
      "Cell \u001b[1;32mIn[8], line 3\u001b[0m\n\u001b[0;32m      1\u001b[0m l \u001b[39m=\u001b[39m kerpy\u001b[39m.\u001b[39mprocessing\u001b[39m.\u001b[39mlaplacian()\n\u001b[0;32m      2\u001b[0m l\u001b[39m.\u001b[39mnumpy[\u001b[39m1\u001b[39m,\u001b[39m1\u001b[39m] \u001b[39m+\u001b[39m\u001b[39m=\u001b[39m \u001b[39m1\u001b[39m\n\u001b[1;32m----> 3\u001b[0m np\u001b[39m.\u001b[39msum(kerpy\u001b[39m.\u001b[39mprocessing\u001b[39m.\u001b[39msharpen()\u001b[39m==\u001b[39ml) \u001b[39m==\u001b[39m \u001b[39m9\u001b[39m\n",
      "\u001b[1;31mNameError\u001b[0m: name 'np' is not defined"
     ]
    }
   ],
   "source": [
    "l = kerpy.processing.laplacian()\n",
    "l.numpy[1,1] += 1\n",
    "np.sum(kerpy.processing.sharpen()==l) == 9"
   ]
  },
  {
   "cell_type": "code",
   "execution_count": null,
   "metadata": {},
   "outputs": [],
   "source": []
  }
 ],
 "metadata": {
  "kernelspec": {
   "display_name": "Python 3 (ipykernel)",
   "language": "python",
   "name": "python3"
  },
  "language_info": {
   "codemirror_mode": {
    "name": "ipython",
    "version": 3
   },
   "file_extension": ".py",
   "mimetype": "text/x-python",
   "name": "python",
   "nbconvert_exporter": "python",
   "pygments_lexer": "ipython3",
   "version": "3.9.5"
  }
 },
 "nbformat": 4,
 "nbformat_minor": 1
}
